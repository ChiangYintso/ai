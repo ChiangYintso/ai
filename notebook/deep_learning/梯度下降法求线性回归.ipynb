{
 "cells": [
  {
   "cell_type": "code",
   "execution_count": 1,
   "metadata": {},
   "outputs": [
    {
     "data": {
      "text/plain": [
       "<matplotlib.collections.PathCollection at 0x2a5d8aab548>"
      ]
     },
     "execution_count": 1,
     "metadata": {},
     "output_type": "execute_result"
    },
    {
     "data": {
      "image/png": "[encoded data removed]",
      "text/plain": [
       "<Figure size 432x288 with 1 Axes>"
      ]
     },
     "metadata": {
      "needs_background": "light"
     },
     "output_type": "display_data"
    }
   ],
   "source": [
    "import numpy as np\n",
    "from matplotlib import pyplot as plt\n",
    "from IPython import display\n",
    "\n",
    "# 模拟数据的参数\n",
    "true_W = [0.3, 2]\n",
    "true_b = 0.4\n",
    "\n",
    "examples_num: int = 1000\n",
    "input_num: int = 2\n",
    "X = np.random.normal(scale=1, size=(examples_num, input_num))\n",
    "y = np.dot(X, true_W) + true_b\n",
    "y = y.reshape(-1, 1)\n",
    "\n",
    "plt.scatter(X[:, 1], y,  1)"
   ]
  },
  {
   "cell_type": "code",
   "execution_count": 2,
   "metadata": {},
   "outputs": [],
   "source": [
    "def squared_loss(y_hat, y):\n",
    "     return (y_hat - y) ** 2 / 2\n",
    "    \n",
    "\n",
    "def line_reg(X, w, b):\n",
    "    return np.dot(X, w) + b\n"
   ]
  },
  {
   "cell_type": "code",
   "execution_count": 10,
   "metadata": {},
   "outputs": [
    {
     "data": {
      "text/plain": [
       "-0.27098499496261924"
      ]
     },
     "execution_count": 10,
     "metadata": {},
     "output_type": "execute_result"
    }
   ],
   "source": [
    "def dW(y, W, b, X):\n",
    "    return np.dot(X.T, (np.dot(X, W) + b - y)) / X.size\n",
    "\n",
    "def db(y, W, B, X):\n",
    "    return np.mean((np.dot(X, W) + b - y))\n",
    "W = np.random.normal(scale=0.01, size=(input_num, 1))\n",
    "b = np.zeros(shape=(1,))\n",
    "y_hat = line_reg(X, W, b)\n",
    "dW(y, W, b, X)\n",
    "db(y, W, b, X)"
   ]
  },
  {
   "cell_type": "code",
   "execution_count": 44,
   "metadata": {},
   "outputs": [],
   "source": [
    "alpha = 0.01\n",
    "epochs_num = 10000\n",
    "for _ in range(epochs_num):\n",
    "    y_hat = line_reg(X, W, b)\n",
    "    J = np.mean(squared_loss(y_hat, y))\n",
    "    W -= alpha * dW(y, W, b, X)\n",
    "    b -= alpha * db(y, W, b, X)"
   ]
  },
  {
   "cell_type": "code",
   "execution_count": 45,
   "metadata": {},
   "outputs": [
    {
     "name": "stdout",
     "output_type": "stream",
     "text": [
      "[[0.3]\n",
      " [2. ]] [0.4] [0.3, 2] 0.4\n"
     ]
    }
   ],
   "source": [
    "print(W, b, true_W, true_b)"
   ]
  }
 ],
 "metadata": {
  "kernelspec": {
   "display_name": "Python 3",
   "language": "python",
   "name": "python3"
  },
  "language_info": {
   "codemirror_mode": {
    "name": "ipython",
    "version": 3
   },
   "file_extension": ".py",
   "mimetype": "text/x-python",
   "name": "python",
   "nbconvert_exporter": "python",
   "pygments_lexer": "ipython3",
   "version": "3.7.6"
  }
 },
 "nbformat": 4,
 "nbformat_minor": 4
}
