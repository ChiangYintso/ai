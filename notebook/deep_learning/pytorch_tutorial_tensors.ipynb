{
 "cells": [
  {
   "cell_type": "code",
   "execution_count": 2,
   "metadata": {},
   "outputs": [],
   "source": [
    "import torch\n",
    "\n",
    "device = torch.device(\"cuda:0\")"
   ]
  },
  {
   "cell_type": "markdown",
   "metadata": {},
   "source": [
    "## pytorch手动前向传播/反向传播"
   ]
  },
  {
   "cell_type": "code",
   "execution_count": 3,
   "metadata": {},
   "outputs": [],
   "source": [
    "n, dim_in, dim_hidden, dim_out = 64, 1000, 100, 10\n",
    "\n",
    "x = torch.randn(n, dim_in, device=device)\n",
    "y = torch.randn(n, dim_out, device=device)\n",
    "\n",
    "w1 = torch.randn(dim_in, dim_hidden, device=device)\n",
    "w2 = torch.rand(dim_hidden, dim_out, device=device)"
   ]
  },
  {
   "cell_type": "markdown",
   "metadata": {},
   "source": [
    "$$\n",
    "\\frac{\\partial y}{\\partial y_{pred}} = 2(y_{pred} - y) \\\\\n",
    "\\frac{\\partial y}{\\partial w_2} = \\frac{\\partial y_{pred}}{\\partial w_2} \\cdot \\frac{\\partial y}{\\partial y_{pred}}\n",
    "$$"
   ]
  },
  {
   "cell_type": "code",
   "execution_count": 20,
   "metadata": {},
   "outputs": [
    {
     "name": "stdout",
     "output_type": "stream",
     "text": [
      "99 16.625436782836914\n",
      "199 3.523359775543213\n",
      "299 1.0563571453094482\n",
      "399 0.3721386194229126\n",
      "499 0.1454431563615799\n"
     ]
    }
   ],
   "source": [
    "learning_rate = 1e-6\n",
    "for t in range(500):\n",
    "    \n",
    "    # 前向传播\n",
    "    h = x.mm(w1)\n",
    "    h_relu = h.clamp(min=0)\n",
    "    y_pred = h_relu.mm(w2)\n",
    "\n",
    "    # Loss\n",
    "    loss = (y_pred - y).pow(2).mean().item()\n",
    "    if t % 100 == 99:\n",
    "            print(t, loss)\n",
    "\n",
    "    # 反向传播\n",
    "    grad_y_pred = 2 * (y_pred - y)\n",
    "    grad_w2 = h_relu.t().mm(grad_y_pred)\n",
    "    grad_h_relu = grad_y_pred.mm(w2.t())\n",
    "    grad_h = grad_h_relu.clone()\n",
    "    grad_h[h < 0] = 0\n",
    "    grad_w1 = x.t().mm(grad_h)\n",
    "    \n",
    "    # Update weights using gradient descent\n",
    "    w1 -= learning_rate * grad_w1\n",
    "    w2 -= learning_rate * grad_w2"
   ]
  },
  {
   "cell_type": "markdown",
   "metadata": {},
   "source": [
    "## pytorch自动前向传播/反向传播"
   ]
  },
  {
   "cell_type": "code",
   "execution_count": 22,
   "metadata": {},
   "outputs": [],
   "source": [
    "x = torch.randn(n, dim_in, device=device)\n",
    "y = torch.randn(n, dim_out, device=device)\n",
    "w1 = torch.randn(dim_in, dim_hidden, device=device, requires_grad=True)\n",
    "w2 = torch.randn(dim_hidden, dim_out, device=device, requires_grad=True)"
   ]
  },
  {
   "cell_type": "code",
   "execution_count": 26,
   "metadata": {},
   "outputs": [
    {
     "name": "stdout",
     "output_type": "stream",
     "text": [
      "99 459.09027099609375\n",
      "199 3.5914642810821533\n",
      "299 0.045708272606134415\n",
      "399 0.0009173029102385044\n",
      "499 8.977029210655019e-05\n"
     ]
    }
   ],
   "source": [
    "for t in range(500):\n",
    "    # 前向传播\n",
    "    y_pred = x.mm(w1).clamp(min=0).mm(w2)\n",
    "    \n",
    "    loss = (y_pred - y).pow(2).sum()\n",
    "    if t % 100 == 99:\n",
    "        print(t, loss.item())\n",
    "    \n",
    "    loss.backward()\n",
    "    \n",
    "    with torch.no_grad():\n",
    "        w1 -= learning_rate * w1.grad\n",
    "        w2 -= learning_rate * w2.grad\n",
    "\n",
    "        # Manually zero the gradients after updating weights\n",
    "        w1.grad.zero_()\n",
    "        w2.grad.zero_()"
   ]
  },
  {
   "cell_type": "code",
   "execution_count": null,
   "metadata": {},
   "outputs": [],
   "source": []
  }
 ],
 "metadata": {
  "kernelspec": {
   "display_name": "Python 3",
   "language": "python",
   "name": "python3"
  },
  "language_info": {
   "codemirror_mode": {
    "name": "ipython",
    "version": 3
   },
   "file_extension": ".py",
   "mimetype": "text/x-python",
   "name": "python",
   "nbconvert_exporter": "python",
   "pygments_lexer": "ipython3",
   "version": "3.7.6"
  }
 },
 "nbformat": 4,
 "nbformat_minor": 4
}
